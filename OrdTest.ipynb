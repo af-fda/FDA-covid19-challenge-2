{
 "cells": [
  {
   "cell_type": "code",
   "execution_count": 1,
   "metadata": {},
   "outputs": [],
   "source": [
    "import pandas as pd\n",
    "import numpy as np\n",
    "\n",
    "from sklearn.model_selection import cross_val_score\n",
    "from sklearn.model_selection import cross_validate\n",
    "import matplotlib.pyplot as plt\n",
    "# %matplotlib inline\n",
    "import seaborn as sns; sns.set()\n",
    "import os\n",
    "import pickle"
   ]
  },
  {
   "cell_type": "code",
   "execution_count": 2,
   "metadata": {},
   "outputs": [],
   "source": [
    "pd.set_option('display.max_rows', 100)\n",
    "\n",
    "from sklearn.model_selection import StratifiedKFold\n",
    "from sklearn import linear_model\n",
    "\n",
    "from sklearn.linear_model import LinearRegression\n",
    "from sklearn.linear_model import LogisticRegressionCV\n",
    "from sklearn.linear_model import LassoCV\n",
    "from sklearn.linear_model import Lasso\n",
    "\n",
    "from sklearn import svm\n",
    "from sklearn.covariance import EllipticEnvelope\n",
    "from sklearn.ensemble import IsolationForest\n",
    "from sklearn.neighbors import LocalOutlierFactor\n",
    "\n",
    "from sklearn.neighbors import KNeighborsRegressor\n",
    "from sklearn.metrics import r2_score\n",
    "\n",
    "import random \n",
    "import math\n",
    "\n",
    "from sklearn.decomposition import PCA\n",
    "\n",
    "from sklearn import preprocessing\n",
    "\n",
    "import pandas_profiling\n",
    "\n",
    "from sklearn.preprocessing import StandardScaler\n",
    "from sklearn.feature_selection import GenericUnivariateSelect, SelectFdr\n",
    "\n",
    "import gc\n",
    "\n",
    "from sklearn.feature_selection import SelectFromModel\n",
    "from sklearn.pipeline import Pipeline\n",
    "from sklearn.preprocessing import LabelEncoder\n",
    "from sklearn.feature_selection import f_classif\n",
    "\n",
    "\n",
    "from sklearn.svm import SVC\n",
    "from sklearn.svm import LinearSVC\n",
    "\n",
    "from sklearn.neighbors import KNeighborsClassifier\n",
    "from sklearn.ensemble import GradientBoostingClassifier\n",
    "\n",
    "from sklearn.model_selection import LeaveOneOut\n",
    "\n",
    "from sklearn.ensemble import VotingClassifier\n",
    "\n",
    "from sklearn.preprocessing import RobustScaler\n",
    "\n",
    "from random import seed\n",
    "from random import randint\n",
    "from imblearn.over_sampling import SMOTE\n",
    "\n",
    "from sklearn import metrics\n",
    "\n",
    "from sklearn.neural_network import MLPClassifier\n",
    "from sklearn.gaussian_process import GaussianProcessClassifier\n",
    "from sklearn.naive_bayes import GaussianNB\n",
    "from sklearn.ensemble import RandomForestClassifier, AdaBoostClassifier\n",
    "\n",
    "from sklearn.metrics import precision_recall_fscore_support\n",
    "from pandas.testing import assert_frame_equal\n",
    "from sklearn.preprocessing import OneHotEncoder"
   ]
  },
  {
   "cell_type": "code",
   "execution_count": 6,
   "metadata": {},
   "outputs": [],
   "source": [
    "INPUT_PATH=\"TestInput/\"\n",
    "MODEL_PATH=\"Model/\"\n",
    "OUTPUT_PATH=\"Predictions/\""
   ]
  },
  {
   "cell_type": "code",
   "execution_count": 7,
   "metadata": {},
   "outputs": [],
   "source": [
    "train_condition = pd.read_csv(INPUT_PATH+\"ordcovid_preindexconditions.csv\").sort_values(by=['patienticn']).set_index(['patienticn'])"
   ]
  },
  {
   "cell_type": "code",
   "execution_count": 8,
   "metadata": {},
   "outputs": [],
   "source": [
    "x=[1]+list(range(3,train_condition.shape[1]-2))\n",
    "train_fm=train_condition.iloc[:, x]"
   ]
  },
  {
   "cell_type": "code",
   "execution_count": 10,
   "metadata": {},
   "outputs": [],
   "source": [
    "train_medications = pd.read_csv(INPUT_PATH+\"ordcovid_preindexmedications.csv\").sort_values(by=['patienticn']).set_index(['patienticn'])"
   ]
  },
  {
   "cell_type": "code",
   "execution_count": 11,
   "metadata": {},
   "outputs": [],
   "source": [
    "assert_frame_equal(train_fm[[\"everpositive\"]], train_medications[[\"everpositive\"]])"
   ]
  },
  {
   "cell_type": "code",
   "execution_count": 12,
   "metadata": {},
   "outputs": [],
   "source": [
    "train_fm = pd.concat([train_fm, train_medications.iloc[:,range(3,train_medications.shape[1]-2)]], axis=1)"
   ]
  },
  {
   "cell_type": "code",
   "execution_count": 14,
   "metadata": {},
   "outputs": [],
   "source": [
    "train_procedures = pd.read_csv(INPUT_PATH+\"ordcovid_preindexprocedures.csv\").sort_values(by=['patienticn']).set_index(['patienticn'])"
   ]
  },
  {
   "cell_type": "code",
   "execution_count": 15,
   "metadata": {},
   "outputs": [],
   "source": [
    "assert_frame_equal(train_fm[[\"everpositive\"]], train_procedures[[\"everpositive\"]])"
   ]
  },
  {
   "cell_type": "code",
   "execution_count": 16,
   "metadata": {},
   "outputs": [],
   "source": [
    "train_fm = pd.concat([train_fm, train_procedures.iloc[:,range(3,train_procedures.shape[1]-2)]], axis=1)"
   ]
  },
  {
   "cell_type": "code",
   "execution_count": 18,
   "metadata": {},
   "outputs": [],
   "source": [
    "train_symptoms = pd.read_csv(INPUT_PATH+\"ordcovid_preindexsymptoms.csv\").sort_values(by=['patienticn']).set_index(['patienticn'])"
   ]
  },
  {
   "cell_type": "code",
   "execution_count": 19,
   "metadata": {},
   "outputs": [],
   "source": [
    "assert_frame_equal(train_fm[[\"everpositive\"]], train_symptoms[[\"everpositive\"]])"
   ]
  },
  {
   "cell_type": "code",
   "execution_count": 20,
   "metadata": {},
   "outputs": [],
   "source": [
    "train_fm = pd.concat([train_fm, train_symptoms.iloc[:,range(3,train_symptoms.shape[1]-2)]], axis=1)"
   ]
  },
  {
   "cell_type": "code",
   "execution_count": 22,
   "metadata": {},
   "outputs": [],
   "source": [
    "train_patient = pd.read_csv(INPUT_PATH+\"ordcovid_patient.csv\").sort_values(by=['patienticn']).set_index(['patienticn'])"
   ]
  },
  {
   "cell_type": "code",
   "execution_count": 23,
   "metadata": {},
   "outputs": [],
   "source": [
    "assert_frame_equal(train_fm[[\"everpositive\"]], train_patient[[\"everpositive\"]])"
   ]
  },
  {
   "cell_type": "code",
   "execution_count": 24,
   "metadata": {},
   "outputs": [],
   "source": [
    "train_fm = pd.concat([train_fm, train_patient.iloc[:,range(19,train_patient.shape[1]-2)]], axis=1)"
   ]
  },
  {
   "cell_type": "code",
   "execution_count": 26,
   "metadata": {},
   "outputs": [],
   "source": [
    "le = pickle.load(open(MODEL_PATH+\"Gender_encoder\", 'rb'))\n",
    "sex_encode=le.transform(train_patient[\"sex\"])"
   ]
  },
  {
   "cell_type": "code",
   "execution_count": 27,
   "metadata": {},
   "outputs": [],
   "source": [
    "dataframe=pd.DataFrame(sex_encode, columns=[\"sex\"]) \n",
    "dataframe['patienticn'] = train_patient.index\n",
    "dataframe=dataframe.set_index(['patienticn'])"
   ]
  },
  {
   "cell_type": "code",
   "execution_count": 28,
   "metadata": {},
   "outputs": [],
   "source": [
    "train_fm = pd.concat([train_fm, dataframe], axis=1)"
   ]
  },
  {
   "cell_type": "code",
   "execution_count": 30,
   "metadata": {},
   "outputs": [],
   "source": [
    "ohe=pickle.load(open(MODEL_PATH+\"Race_encoder\", \"rb\"))\n",
    "race_encode=ohe.transform(train_patient[[\"race\"]]).toarray()\n",
    "#ohe.get_feature_names(['race'])"
   ]
  },
  {
   "cell_type": "code",
   "execution_count": 31,
   "metadata": {},
   "outputs": [],
   "source": [
    "dataframe=pd.DataFrame(race_encode, columns=ohe.get_feature_names(['race'])) \n",
    "dataframe['patienticn'] = train_patient.index\n",
    "dataframe=dataframe.set_index([\"patienticn\"])\n",
    "dataframe.index = dataframe.index.map(\"\".join)"
   ]
  },
  {
   "cell_type": "code",
   "execution_count": 32,
   "metadata": {},
   "outputs": [],
   "source": [
    "train_fm = pd.concat([train_fm, dataframe], axis=1)"
   ]
  },
  {
   "cell_type": "code",
   "execution_count": 34,
   "metadata": {},
   "outputs": [],
   "source": [
    "le = pickle.load(open(MODEL_PATH+\"Ethnicity_encoder\", \"rb\"))\n",
    "ethnicity_encode=le.transform(train_patient[\"ethnicity\"])"
   ]
  },
  {
   "cell_type": "code",
   "execution_count": 35,
   "metadata": {},
   "outputs": [],
   "source": [
    "dataframe=pd.DataFrame(ethnicity_encode, columns=[\"ethnicity\"]) \n",
    "dataframe['patienticn'] = train_patient.index\n",
    "dataframe=dataframe.set_index(['patienticn'])"
   ]
  },
  {
   "cell_type": "code",
   "execution_count": 36,
   "metadata": {},
   "outputs": [],
   "source": [
    "train_fm = pd.concat([train_fm, dataframe], axis=1)"
   ]
  },
  {
   "cell_type": "code",
   "execution_count": 37,
   "metadata": {},
   "outputs": [],
   "source": [
    "train_fm = pd.concat([train_fm, train_patient[[\"ageatindexdate\"]]], axis=1)"
   ]
  },
  {
   "cell_type": "code",
   "execution_count": 38,
   "metadata": {},
   "outputs": [
    {
     "name": "stdout",
     "output_type": "stream",
     "text": [
      "asymptomatic30d\n"
     ]
    }
   ],
   "source": [
    "for column in train_fm:\n",
    "    if(train_fm[column].isnull().values.any()):\n",
    "        print(column)"
   ]
  },
  {
   "cell_type": "code",
   "execution_count": 39,
   "metadata": {},
   "outputs": [],
   "source": [
    "train_fm=train_fm.fillna(0)"
   ]
  },
  {
   "cell_type": "code",
   "execution_count": 40,
   "metadata": {},
   "outputs": [
    {
     "data": {
      "text/plain": [
       "(18887, 182)"
      ]
     },
     "execution_count": 40,
     "metadata": {},
     "output_type": "execute_result"
    }
   ],
   "source": [
    "train_fm.shape"
   ]
  },
  {
   "cell_type": "code",
   "execution_count": 42,
   "metadata": {},
   "outputs": [],
   "source": [
    "#train_fm.to_csv(MODEL_PATH+\"TestMatrix.csv\")"
   ]
  },
  {
   "cell_type": "code",
   "execution_count": 44,
   "metadata": {},
   "outputs": [],
   "source": [
    "use_feature = pickle.load(open(MODEL_PATH+\"use_feature\", \"rb\"))\n",
    "\n",
    "#print(use_feature)"
   ]
  },
  {
   "cell_type": "code",
   "execution_count": 45,
   "metadata": {},
   "outputs": [
    {
     "data": {
      "text/plain": [
       "84"
      ]
     },
     "execution_count": 45,
     "metadata": {},
     "output_type": "execute_result"
    }
   ],
   "source": [
    "len(use_feature)"
   ]
  },
  {
   "cell_type": "code",
   "execution_count": 51,
   "metadata": {},
   "outputs": [],
   "source": [
    "def model(featmat, MODELPATH, PRED):\n",
    "  scaler = pickle.load(open(MODEL_PATH+\"ScalerModel\", \"rb\"))\n",
    "  X_num = scaler.transform(featmat)\n",
    "\n",
    "  pred_out = featmat[[]]\n",
    "  for label in ['gbm', 'ada', 'lgbm_fpr', 'Ensemble']:\n",
    "    clf = pickle.load(open(MODELPATH+PRED+label+\"_Model\", \"rb\"))\n",
    "    pred_out.loc[:,label] = clf.predict_proba(X_num)[:,1]\n",
    "  return pred_out"
   ]
  },
  {
   "cell_type": "code",
   "execution_count": 52,
   "metadata": {},
   "outputs": [
    {
     "name": "stderr",
     "output_type": "stream",
     "text": [
      "/home/luoqi/projects/py36/lib/python3.6/site-packages/pandas/core/indexing.py:362: SettingWithCopyWarning: \n",
      "A value is trying to be set on a copy of a slice from a DataFrame.\n",
      "Try using .loc[row_indexer,col_indexer] = value instead\n",
      "\n",
      "See the caveats in the documentation: http://pandas.pydata.org/pandas-docs/stable/indexing.html#indexing-view-versus-copy\n",
      "  self.obj[key] = _infer_fill_value(value)\n",
      "/home/luoqi/projects/py36/lib/python3.6/site-packages/pandas/core/indexing.py:630: SettingWithCopyWarning: \n",
      "A value is trying to be set on a copy of a slice from a DataFrame.\n",
      "Try using .loc[row_indexer,col_indexer] = value instead\n",
      "\n",
      "See the caveats in the documentation: http://pandas.pydata.org/pandas-docs/stable/indexing.html#indexing-view-versus-copy\n",
      "  self.obj[item_labels[indexer[info_axis]]] = value\n",
      "/home/luoqi/projects/py36/lib/python3.6/site-packages/pandas/core/indexing.py:362: SettingWithCopyWarning: \n",
      "A value is trying to be set on a copy of a slice from a DataFrame.\n",
      "Try using .loc[row_indexer,col_indexer] = value instead\n",
      "\n",
      "See the caveats in the documentation: http://pandas.pydata.org/pandas-docs/stable/indexing.html#indexing-view-versus-copy\n",
      "  self.obj[key] = _infer_fill_value(value)\n",
      "/home/luoqi/projects/py36/lib/python3.6/site-packages/pandas/core/indexing.py:630: SettingWithCopyWarning: \n",
      "A value is trying to be set on a copy of a slice from a DataFrame.\n",
      "Try using .loc[row_indexer,col_indexer] = value instead\n",
      "\n",
      "See the caveats in the documentation: http://pandas.pydata.org/pandas-docs/stable/indexing.html#indexing-view-versus-copy\n",
      "  self.obj[item_labels[indexer[info_axis]]] = value\n",
      "/home/luoqi/projects/py36/lib/python3.6/site-packages/pandas/core/indexing.py:362: SettingWithCopyWarning: \n",
      "A value is trying to be set on a copy of a slice from a DataFrame.\n",
      "Try using .loc[row_indexer,col_indexer] = value instead\n",
      "\n",
      "See the caveats in the documentation: http://pandas.pydata.org/pandas-docs/stable/indexing.html#indexing-view-versus-copy\n",
      "  self.obj[key] = _infer_fill_value(value)\n",
      "/home/luoqi/projects/py36/lib/python3.6/site-packages/pandas/core/indexing.py:630: SettingWithCopyWarning: \n",
      "A value is trying to be set on a copy of a slice from a DataFrame.\n",
      "Try using .loc[row_indexer,col_indexer] = value instead\n",
      "\n",
      "See the caveats in the documentation: http://pandas.pydata.org/pandas-docs/stable/indexing.html#indexing-view-versus-copy\n",
      "  self.obj[item_labels[indexer[info_axis]]] = value\n",
      "/home/luoqi/projects/py36/lib/python3.6/site-packages/pandas/core/indexing.py:362: SettingWithCopyWarning: \n",
      "A value is trying to be set on a copy of a slice from a DataFrame.\n",
      "Try using .loc[row_indexer,col_indexer] = value instead\n",
      "\n",
      "See the caveats in the documentation: http://pandas.pydata.org/pandas-docs/stable/indexing.html#indexing-view-versus-copy\n",
      "  self.obj[key] = _infer_fill_value(value)\n",
      "/home/luoqi/projects/py36/lib/python3.6/site-packages/pandas/core/indexing.py:630: SettingWithCopyWarning: \n",
      "A value is trying to be set on a copy of a slice from a DataFrame.\n",
      "Try using .loc[row_indexer,col_indexer] = value instead\n",
      "\n",
      "See the caveats in the documentation: http://pandas.pydata.org/pandas-docs/stable/indexing.html#indexing-view-versus-copy\n",
      "  self.obj[item_labels[indexer[info_axis]]] = value\n"
     ]
    }
   ],
   "source": [
    "#alive status\n",
    "fm_alive = train_fm.loc[train_fm['everpositive'] > 0, use_feature]\n",
    "train_test_res = []\n",
    "res = model(fm_alive, MODEL_PATH, \"death\")\n",
    "train_test_res.append(res)\n",
    "train_test_out = pd.concat(train_test_res)"
   ]
  },
  {
   "cell_type": "code",
   "execution_count": 53,
   "metadata": {},
   "outputs": [],
   "source": [
    "#train_test_out.head()"
   ]
  },
  {
   "cell_type": "code",
   "execution_count": 54,
   "metadata": {},
   "outputs": [],
   "source": [
    "negative_id = train_fm.loc[train_fm['everpositive'] == 0, ['everpositive']]\n",
    "negative_id.rename(columns={'everpositive':'Outcome'}, inplace=True)"
   ]
  },
  {
   "cell_type": "code",
   "execution_count": 55,
   "metadata": {},
   "outputs": [
    {
     "data": {
      "text/plain": [
       "0"
      ]
     },
     "execution_count": 55,
     "metadata": {},
     "output_type": "execute_result"
    }
   ],
   "source": [
    "import os\n",
    "os.system(\"mkdir \"+OUTPUT_PATH+\"Ensemble\")\n",
    "os.system(\"mkdir \"+OUTPUT_PATH+\"gbm\")\n",
    "os.system(\"mkdir \"+OUTPUT_PATH+\"ada\")"
   ]
  },
  {
   "cell_type": "code",
   "execution_count": 56,
   "metadata": {},
   "outputs": [],
   "source": [
    "#alive status\n",
    "T=train_test_out.loc[:, ['Ensemble']]\n",
    "T=T.rename(columns={'Ensemble':'Outcome'})\n",
    "T=T.append(negative_id)\n",
    "T.to_csv(OUTPUT_PATH+\"Ensemble/alive_predict.tsv\", header=False)\n",
    "T=train_test_out.loc[:, ['lgbm_fpr']]\n",
    "T=T.rename(columns={'lgbm_fpr':'Outcome'})\n",
    "T=T.append(negative_id)\n",
    "T.to_csv(OUTPUT_PATH+\"gbm/alive_predict.tsv\", header=False)\n",
    "T=train_test_out.loc[:, ['ada']]\n",
    "T=T.rename(columns={'ada':'Outcome'})\n",
    "T=T.append(negative_id)\n",
    "T.to_csv(OUTPUT_PATH+\"ada/alive_predict.tsv\", header=False)"
   ]
  },
  {
   "cell_type": "code",
   "execution_count": 57,
   "metadata": {},
   "outputs": [],
   "source": [
    "#COVID status\n",
    "T=train_fm[['everpositive']]\n",
    "T.to_csv(OUTPUT_PATH+\"Ensemble/status_predict.tsv\", header=False)\n",
    "T.to_csv(OUTPUT_PATH+\"gbm/status_predict.tsv\", header=False)\n",
    "T.to_csv(OUTPUT_PATH+\"ada/status_predict.tsv\", header=False)"
   ]
  },
  {
   "cell_type": "code",
   "execution_count": 58,
   "metadata": {},
   "outputs": [
    {
     "name": "stderr",
     "output_type": "stream",
     "text": [
      "/home/luoqi/projects/py36/lib/python3.6/site-packages/pandas/core/indexing.py:362: SettingWithCopyWarning: \n",
      "A value is trying to be set on a copy of a slice from a DataFrame.\n",
      "Try using .loc[row_indexer,col_indexer] = value instead\n",
      "\n",
      "See the caveats in the documentation: http://pandas.pydata.org/pandas-docs/stable/indexing.html#indexing-view-versus-copy\n",
      "  self.obj[key] = _infer_fill_value(value)\n",
      "/home/luoqi/projects/py36/lib/python3.6/site-packages/pandas/core/indexing.py:630: SettingWithCopyWarning: \n",
      "A value is trying to be set on a copy of a slice from a DataFrame.\n",
      "Try using .loc[row_indexer,col_indexer] = value instead\n",
      "\n",
      "See the caveats in the documentation: http://pandas.pydata.org/pandas-docs/stable/indexing.html#indexing-view-versus-copy\n",
      "  self.obj[item_labels[indexer[info_axis]]] = value\n",
      "/home/luoqi/projects/py36/lib/python3.6/site-packages/pandas/core/indexing.py:362: SettingWithCopyWarning: \n",
      "A value is trying to be set on a copy of a slice from a DataFrame.\n",
      "Try using .loc[row_indexer,col_indexer] = value instead\n",
      "\n",
      "See the caveats in the documentation: http://pandas.pydata.org/pandas-docs/stable/indexing.html#indexing-view-versus-copy\n",
      "  self.obj[key] = _infer_fill_value(value)\n",
      "/home/luoqi/projects/py36/lib/python3.6/site-packages/pandas/core/indexing.py:630: SettingWithCopyWarning: \n",
      "A value is trying to be set on a copy of a slice from a DataFrame.\n",
      "Try using .loc[row_indexer,col_indexer] = value instead\n",
      "\n",
      "See the caveats in the documentation: http://pandas.pydata.org/pandas-docs/stable/indexing.html#indexing-view-versus-copy\n",
      "  self.obj[item_labels[indexer[info_axis]]] = value\n",
      "/home/luoqi/projects/py36/lib/python3.6/site-packages/pandas/core/indexing.py:362: SettingWithCopyWarning: \n",
      "A value is trying to be set on a copy of a slice from a DataFrame.\n",
      "Try using .loc[row_indexer,col_indexer] = value instead\n",
      "\n",
      "See the caveats in the documentation: http://pandas.pydata.org/pandas-docs/stable/indexing.html#indexing-view-versus-copy\n",
      "  self.obj[key] = _infer_fill_value(value)\n",
      "/home/luoqi/projects/py36/lib/python3.6/site-packages/pandas/core/indexing.py:630: SettingWithCopyWarning: \n",
      "A value is trying to be set on a copy of a slice from a DataFrame.\n",
      "Try using .loc[row_indexer,col_indexer] = value instead\n",
      "\n",
      "See the caveats in the documentation: http://pandas.pydata.org/pandas-docs/stable/indexing.html#indexing-view-versus-copy\n",
      "  self.obj[item_labels[indexer[info_axis]]] = value\n",
      "/home/luoqi/projects/py36/lib/python3.6/site-packages/pandas/core/indexing.py:362: SettingWithCopyWarning: \n",
      "A value is trying to be set on a copy of a slice from a DataFrame.\n",
      "Try using .loc[row_indexer,col_indexer] = value instead\n",
      "\n",
      "See the caveats in the documentation: http://pandas.pydata.org/pandas-docs/stable/indexing.html#indexing-view-versus-copy\n",
      "  self.obj[key] = _infer_fill_value(value)\n",
      "/home/luoqi/projects/py36/lib/python3.6/site-packages/pandas/core/indexing.py:630: SettingWithCopyWarning: \n",
      "A value is trying to be set on a copy of a slice from a DataFrame.\n",
      "Try using .loc[row_indexer,col_indexer] = value instead\n",
      "\n",
      "See the caveats in the documentation: http://pandas.pydata.org/pandas-docs/stable/indexing.html#indexing-view-versus-copy\n",
      "  self.obj[item_labels[indexer[info_axis]]] = value\n"
     ]
    }
   ],
   "source": [
    "#VENT status\n",
    "fm_vent = train_fm.loc[train_fm['everpositive'] > 0, use_feature]\n",
    "train_test_res = []\n",
    "res = model(fm_vent, MODEL_PATH, \"vent_req\")\n",
    "train_test_res.append(res)\n",
    "train_test_out = pd.concat(train_test_res)"
   ]
  },
  {
   "cell_type": "code",
   "execution_count": 59,
   "metadata": {},
   "outputs": [],
   "source": [
    "#VENT status\n",
    "T=train_test_out.loc[:, ['Ensemble']]\n",
    "T=T.rename(columns={'Ensemble':'Outcome'})\n",
    "T=T.append(negative_id)\n",
    "T.to_csv(OUTPUT_PATH+\"Ensemble/vent_predict.tsv\", header=False)\n",
    "T=train_test_out.loc[:, ['lgbm_fpr']]\n",
    "T=T.rename(columns={'lgbm_fpr':'Outcome'})\n",
    "T=T.append(negative_id)\n",
    "T.to_csv(OUTPUT_PATH+\"gbm/vent_predict.tsv\", header=False)\n",
    "T=train_test_out.loc[:, ['ada']]\n",
    "T=T.rename(columns={'ada':'Outcome'})\n",
    "T=T.append(negative_id)\n",
    "T.to_csv(OUTPUT_PATH+\"ada/vent_predict.tsv\", header=False)"
   ]
  },
  {
   "cell_type": "code",
   "execution_count": 60,
   "metadata": {},
   "outputs": [],
   "source": [
    "from sklearn.datasets import make_regression\n",
    "from sklearn.ensemble import GradientBoostingRegressor\n",
    "from sklearn.metrics import mean_squared_error\n",
    "from sklearn.model_selection import GridSearchCV"
   ]
  },
  {
   "cell_type": "code",
   "execution_count": 61,
   "metadata": {},
   "outputs": [],
   "source": [
    "X_num = train_fm.loc[train_fm['everpositive'] > 0, use_feature].values\n",
    "scaler = pickle.load(open(MODEL_PATH+\"ScalerModel\", \"rb\"))\n",
    "X_num = scaler.transform(X_num)"
   ]
  },
  {
   "cell_type": "code",
   "execution_count": 63,
   "metadata": {},
   "outputs": [],
   "source": [
    "#days in ICU\n",
    "clf_gbm_final=pickle.load(open(MODEL_PATH+\"days_icu_gbm_Model\", \"rb\"))\n",
    "\n",
    "Ytest_gbm_predict=train_fm.loc[train_fm['everpositive'] > 0, []]\n",
    "Y_predict = clf_gbm_final.predict(X_num)\n",
    "Y_predict[Y_predict<0] = 0\n",
    "Ytest_gbm_predict.loc[:,'Outcome'] = Y_predict\n",
    "Ytest_gbm_predict=Ytest_gbm_predict.append(negative_id)\n",
    "Ytest_gbm_predict.to_csv(OUTPUT_PATH+\"gbm/icu_predict.tsv\", header=False)"
   ]
  },
  {
   "cell_type": "code",
   "execution_count": 64,
   "metadata": {},
   "outputs": [],
   "source": [
    "clf_rf_final=pickle.load(open(MODEL_PATH+\"days_icu_rf_Model\", \"rb\"))\n",
    "\n",
    "Ytest_rf_predict=train_fm.loc[train_fm['everpositive'] > 0, []]\n",
    "Y_predict = clf_rf_final.predict(X_num)\n",
    "Y_predict[Y_predict<0] = 0\n",
    "Ytest_rf_predict.loc[:,'Outcome'] = Y_predict\n",
    "Ytest_rf_predict=Ytest_rf_predict.append(negative_id)\n",
    "Ytest_rf_predict.to_csv(OUTPUT_PATH+\"ada/icu_predict.tsv\", header=False)"
   ]
  },
  {
   "cell_type": "code",
   "execution_count": 65,
   "metadata": {},
   "outputs": [],
   "source": [
    "clf_VR2_final=pickle.load(open(MODEL_PATH+\"days_icu_Ensemble_Model\", \"rb\"))\n",
    "\n",
    "Ytest_VR2_predict=train_fm.loc[train_fm['everpositive'] > 0, []]\n",
    "Y_predict = clf_VR2_final.predict(X_num)\n",
    "Y_predict[Y_predict<0] = 0\n",
    "Ytest_VR2_predict.loc[:,'Outcome'] = Y_predict\n",
    "Ytest_VR2_predict=Ytest_VR2_predict.append(negative_id)\n",
    "Ytest_VR2_predict.to_csv(OUTPUT_PATH+\"Ensemble/icu_predict.tsv\", header=False)"
   ]
  },
  {
   "cell_type": "code",
   "execution_count": 67,
   "metadata": {},
   "outputs": [],
   "source": [
    "#days hospitalized\n",
    "clf_gbm_final=pickle.load(open(MODEL_PATH+\"days_hospitalized_gbm_Model\", \"rb\"))\n",
    "\n",
    "Ytest_gbm_predict=train_fm.loc[train_fm['everpositive'] > 0, []]\n",
    "Y_predict = clf_gbm_final.predict(X_num)\n",
    "Y_predict[Y_predict<0] = 0\n",
    "Ytest_gbm_predict.loc[:,'Outcome'] = Y_predict\n",
    "Ytest_gbm_predict=Ytest_gbm_predict.append(negative_id)\n",
    "Ytest_gbm_predict.to_csv(OUTPUT_PATH+\"gbm/days_hospitalized_predict.tsv\", header=False)"
   ]
  },
  {
   "cell_type": "code",
   "execution_count": 68,
   "metadata": {},
   "outputs": [],
   "source": [
    "clf_rf_final=pickle.load(open(MODEL_PATH+\"days_hospitalized_rf_Model\", \"rb\"))\n",
    "\n",
    "Ytest_rf_predict=train_fm.loc[train_fm['everpositive'] > 0, []]\n",
    "Y_predict = clf_rf_final.predict(X_num)\n",
    "Y_predict[Y_predict<0] = 0\n",
    "Ytest_rf_predict.loc[:,'Outcome'] = Y_predict\n",
    "Ytest_rf_predict=Ytest_rf_predict.append(negative_id)\n",
    "Ytest_rf_predict.to_csv(OUTPUT_PATH+\"ada/days_hospitalized_predict.tsv\", header=False)"
   ]
  },
  {
   "cell_type": "code",
   "execution_count": 69,
   "metadata": {},
   "outputs": [],
   "source": [
    "clf_VR2_final=pickle.load(open(MODEL_PATH+\"days_hospitalized_Ensemble_Model\", \"rb\"))\n",
    "\n",
    "Ytest_VR2_predict=train_fm.loc[train_fm['everpositive'] > 0, []]\n",
    "Y_predict = clf_VR2_final.predict(X_num)\n",
    "Y_predict[Y_predict<0] = 0\n",
    "Ytest_VR2_predict.loc[:,'Outcome'] = Y_predict\n",
    "Ytest_VR2_predict=Ytest_VR2_predict.append(negative_id)\n",
    "Ytest_VR2_predict.to_csv(OUTPUT_PATH+\"Ensemble/days_hospitalized_predict.tsv\", header=False)"
   ]
  },
  {
   "cell_type": "code",
   "execution_count": null,
   "metadata": {},
   "outputs": [],
   "source": []
  }
 ],
 "metadata": {
  "kernelspec": {
   "display_name": "Python 3",
   "language": "python",
   "name": "python3"
  },
  "language_info": {
   "codemirror_mode": {
    "name": "ipython",
    "version": 3
   },
   "file_extension": ".py",
   "mimetype": "text/x-python",
   "name": "python",
   "nbconvert_exporter": "python",
   "pygments_lexer": "ipython3",
   "version": "3.6.3"
  }
 },
 "nbformat": 4,
 "nbformat_minor": 2
}
